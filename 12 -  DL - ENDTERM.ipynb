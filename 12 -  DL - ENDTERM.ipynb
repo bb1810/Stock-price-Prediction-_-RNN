{
 "cells": [
  {
   "cell_type": "markdown",
   "id": "ddc9c50f",
   "metadata": {},
   "source": [
    "### <U> D22012- BHARATH BOMMEESHWAR K"
   ]
  },
  {
   "cell_type": "code",
   "execution_count": null,
   "id": "22a1cd5a",
   "metadata": {},
   "outputs": [],
   "source": []
  },
  {
   "cell_type": "markdown",
   "id": "3b4f6133",
   "metadata": {},
   "source": [
    "### Importing necessary libraries"
   ]
  },
  {
   "cell_type": "code",
   "execution_count": 370,
   "id": "65f8b096",
   "metadata": {},
   "outputs": [],
   "source": [
    "import numpy as np\n",
    "import pandas as pd\n",
    "import matplotlib.pyplot as plt\n",
    "\n",
    "from scipy.signal import convolve2d\n",
    "from scipy import misc\n",
    "\n",
    "from sklearn.metrics import confusion_matrix, accuracy_score, classification_report\n",
    "#CNN Keras\n",
    "from keras.layers import Conv2D\n",
    "from keras.models import Sequential, Model\n",
    "import keras.backend as K\n",
    "\n",
    "from keras.layers import Conv2D, MaxPool2D, Flatten, Dense, GlobalAveragePooling2D, Dropout\n",
    "from keras.layers import Conv2D,Dense,MaxPooling2D,Flatten\n",
    "from keras.datasets import mnist\n",
    "from sklearn.model_selection import train_test_split\n",
    "\n",
    "import tensorflow as tf\n",
    "import os"
   ]
  },
  {
   "cell_type": "code",
   "execution_count": 371,
   "id": "b69829c7",
   "metadata": {},
   "outputs": [],
   "source": [
    "import datetime\n",
    "from sklearn.preprocessing import MinMaxScaler\n",
    "from sklearn.metrics import mean_squared_error"
   ]
  },
  {
   "cell_type": "code",
   "execution_count": 372,
   "id": "eccdae50",
   "metadata": {},
   "outputs": [],
   "source": [
    "from keras.callbacks import EarlyStopping"
   ]
  },
  {
   "cell_type": "markdown",
   "id": "35ad4a27",
   "metadata": {},
   "source": [
    "### <b> 1.Read the data (data.csv) and prepare for modelling. Split the data into Train and Test (take last one year data for  testing)."
   ]
  },
  {
   "cell_type": "code",
   "execution_count": 412,
   "id": "28211f9d",
   "metadata": {},
   "outputs": [
    {
     "data": {
      "text/html": [
       "<div>\n",
       "<style scoped>\n",
       "    .dataframe tbody tr th:only-of-type {\n",
       "        vertical-align: middle;\n",
       "    }\n",
       "\n",
       "    .dataframe tbody tr th {\n",
       "        vertical-align: top;\n",
       "    }\n",
       "\n",
       "    .dataframe thead th {\n",
       "        text-align: right;\n",
       "    }\n",
       "</style>\n",
       "<table border=\"1\" class=\"dataframe\">\n",
       "  <thead>\n",
       "    <tr style=\"text-align: right;\">\n",
       "      <th></th>\n",
       "      <th>Date</th>\n",
       "      <th>Close</th>\n",
       "    </tr>\n",
       "  </thead>\n",
       "  <tbody>\n",
       "    <tr>\n",
       "      <th>0</th>\n",
       "      <td>01 10 2014</td>\n",
       "      <td>434.000000</td>\n",
       "    </tr>\n",
       "    <tr>\n",
       "      <th>1</th>\n",
       "      <td>07 10 2014</td>\n",
       "      <td>431.225006</td>\n",
       "    </tr>\n",
       "    <tr>\n",
       "      <th>2</th>\n",
       "      <td>08 10 2014</td>\n",
       "      <td>433.799988</td>\n",
       "    </tr>\n",
       "    <tr>\n",
       "      <th>3</th>\n",
       "      <td>09 10 2014</td>\n",
       "      <td>443.799988</td>\n",
       "    </tr>\n",
       "    <tr>\n",
       "      <th>4</th>\n",
       "      <td>10 10 2014</td>\n",
       "      <td>433.649994</td>\n",
       "    </tr>\n",
       "    <tr>\n",
       "      <th>...</th>\n",
       "      <td>...</td>\n",
       "      <td>...</td>\n",
       "    </tr>\n",
       "    <tr>\n",
       "      <th>2098</th>\n",
       "      <td>06 04 2023</td>\n",
       "      <td>1666.349976</td>\n",
       "    </tr>\n",
       "    <tr>\n",
       "      <th>2099</th>\n",
       "      <td>10 04 2023</td>\n",
       "      <td>1658.449951</td>\n",
       "    </tr>\n",
       "    <tr>\n",
       "      <th>2100</th>\n",
       "      <td>11 04 2023</td>\n",
       "      <td>1663.300049</td>\n",
       "    </tr>\n",
       "    <tr>\n",
       "      <th>2101</th>\n",
       "      <td>12 04 2023</td>\n",
       "      <td>1684.900024</td>\n",
       "    </tr>\n",
       "    <tr>\n",
       "      <th>2102</th>\n",
       "      <td>13 04 2023</td>\n",
       "      <td>1692.449951</td>\n",
       "    </tr>\n",
       "  </tbody>\n",
       "</table>\n",
       "<p>2103 rows × 2 columns</p>\n",
       "</div>"
      ],
      "text/plain": [
       "            Date        Close\n",
       "0     01 10 2014   434.000000\n",
       "1     07 10 2014   431.225006\n",
       "2     08 10 2014   433.799988\n",
       "3     09 10 2014   443.799988\n",
       "4     10 10 2014   433.649994\n",
       "...          ...          ...\n",
       "2098  06 04 2023  1666.349976\n",
       "2099  10 04 2023  1658.449951\n",
       "2100  11 04 2023  1663.300049\n",
       "2101  12 04 2023  1684.900024\n",
       "2102  13 04 2023  1692.449951\n",
       "\n",
       "[2103 rows x 2 columns]"
      ]
     },
     "execution_count": 412,
     "metadata": {},
     "output_type": "execute_result"
    }
   ],
   "source": [
    "#read the data\n",
    "data = pd.read_csv(\"BHARATH.BOMMEESHWAR KUMAR - data.csv\")\n",
    "data"
   ]
  },
  {
   "cell_type": "code",
   "execution_count": 413,
   "id": "49bcb415",
   "metadata": {},
   "outputs": [
    {
     "data": {
      "text/html": [
       "<div>\n",
       "<style scoped>\n",
       "    .dataframe tbody tr th:only-of-type {\n",
       "        vertical-align: middle;\n",
       "    }\n",
       "\n",
       "    .dataframe tbody tr th {\n",
       "        vertical-align: top;\n",
       "    }\n",
       "\n",
       "    .dataframe thead th {\n",
       "        text-align: right;\n",
       "    }\n",
       "</style>\n",
       "<table border=\"1\" class=\"dataframe\">\n",
       "  <thead>\n",
       "    <tr style=\"text-align: right;\">\n",
       "      <th></th>\n",
       "      <th>Close</th>\n",
       "    </tr>\n",
       "    <tr>\n",
       "      <th>Date</th>\n",
       "      <th></th>\n",
       "    </tr>\n",
       "  </thead>\n",
       "  <tbody>\n",
       "    <tr>\n",
       "      <th>2014-10-01</th>\n",
       "      <td>434.000000</td>\n",
       "    </tr>\n",
       "    <tr>\n",
       "      <th>2014-10-07</th>\n",
       "      <td>431.225006</td>\n",
       "    </tr>\n",
       "    <tr>\n",
       "      <th>2014-10-08</th>\n",
       "      <td>433.799988</td>\n",
       "    </tr>\n",
       "    <tr>\n",
       "      <th>2014-10-09</th>\n",
       "      <td>443.799988</td>\n",
       "    </tr>\n",
       "    <tr>\n",
       "      <th>2014-10-10</th>\n",
       "      <td>433.649994</td>\n",
       "    </tr>\n",
       "    <tr>\n",
       "      <th>...</th>\n",
       "      <td>...</td>\n",
       "    </tr>\n",
       "    <tr>\n",
       "      <th>2023-04-06</th>\n",
       "      <td>1666.349976</td>\n",
       "    </tr>\n",
       "    <tr>\n",
       "      <th>2023-04-10</th>\n",
       "      <td>1658.449951</td>\n",
       "    </tr>\n",
       "    <tr>\n",
       "      <th>2023-04-11</th>\n",
       "      <td>1663.300049</td>\n",
       "    </tr>\n",
       "    <tr>\n",
       "      <th>2023-04-12</th>\n",
       "      <td>1684.900024</td>\n",
       "    </tr>\n",
       "    <tr>\n",
       "      <th>2023-04-13</th>\n",
       "      <td>1692.449951</td>\n",
       "    </tr>\n",
       "  </tbody>\n",
       "</table>\n",
       "<p>2103 rows × 1 columns</p>\n",
       "</div>"
      ],
      "text/plain": [
       "                  Close\n",
       "Date                   \n",
       "2014-10-01   434.000000\n",
       "2014-10-07   431.225006\n",
       "2014-10-08   433.799988\n",
       "2014-10-09   443.799988\n",
       "2014-10-10   433.649994\n",
       "...                 ...\n",
       "2023-04-06  1666.349976\n",
       "2023-04-10  1658.449951\n",
       "2023-04-11  1663.300049\n",
       "2023-04-12  1684.900024\n",
       "2023-04-13  1692.449951\n",
       "\n",
       "[2103 rows x 1 columns]"
      ]
     },
     "execution_count": 413,
     "metadata": {},
     "output_type": "execute_result"
    }
   ],
   "source": [
    "# Convert the date strings to datetime objects and set the index\n",
    "data = data.set_index(pd.to_datetime(data['Date'], format='%d %m %Y'))\n",
    "\n",
    "# Drop the original Date column\n",
    "data = data.drop('Date', axis=1)\n",
    "\n",
    "# Updated DataFrame\n",
    "data"
   ]
  },
  {
   "cell_type": "code",
   "execution_count": 414,
   "id": "1f4c919b",
   "metadata": {},
   "outputs": [
    {
     "data": {
      "text/html": [
       "<div>\n",
       "<style scoped>\n",
       "    .dataframe tbody tr th:only-of-type {\n",
       "        vertical-align: middle;\n",
       "    }\n",
       "\n",
       "    .dataframe tbody tr th {\n",
       "        vertical-align: top;\n",
       "    }\n",
       "\n",
       "    .dataframe thead th {\n",
       "        text-align: right;\n",
       "    }\n",
       "</style>\n",
       "<table border=\"1\" class=\"dataframe\">\n",
       "  <thead>\n",
       "    <tr style=\"text-align: right;\">\n",
       "      <th></th>\n",
       "      <th>Close</th>\n",
       "    </tr>\n",
       "    <tr>\n",
       "      <th>Date</th>\n",
       "      <th></th>\n",
       "    </tr>\n",
       "  </thead>\n",
       "  <tbody>\n",
       "    <tr>\n",
       "      <th>2023-04-06</th>\n",
       "      <td>1666.349976</td>\n",
       "    </tr>\n",
       "    <tr>\n",
       "      <th>2023-04-10</th>\n",
       "      <td>1658.449951</td>\n",
       "    </tr>\n",
       "    <tr>\n",
       "      <th>2023-04-11</th>\n",
       "      <td>1663.300049</td>\n",
       "    </tr>\n",
       "    <tr>\n",
       "      <th>2023-04-12</th>\n",
       "      <td>1684.900024</td>\n",
       "    </tr>\n",
       "    <tr>\n",
       "      <th>2023-04-13</th>\n",
       "      <td>1692.449951</td>\n",
       "    </tr>\n",
       "  </tbody>\n",
       "</table>\n",
       "</div>"
      ],
      "text/plain": [
       "                  Close\n",
       "Date                   \n",
       "2023-04-06  1666.349976\n",
       "2023-04-10  1658.449951\n",
       "2023-04-11  1663.300049\n",
       "2023-04-12  1684.900024\n",
       "2023-04-13  1692.449951"
      ]
     },
     "execution_count": 414,
     "metadata": {},
     "output_type": "execute_result"
    }
   ],
   "source": [
    "data.tail()"
   ]
  },
  {
   "cell_type": "code",
   "execution_count": 415,
   "id": "28e69300",
   "metadata": {},
   "outputs": [],
   "source": [
    "# Splitting last one year data for test \n",
    "split_date = pd.Timestamp('2022-04-13')\n",
    "train = data.loc[:split_date, ['Close']]\n",
    "test = data.loc[split_date:, ['Close']]"
   ]
  },
  {
   "cell_type": "code",
   "execution_count": 416,
   "id": "676a51dd",
   "metadata": {},
   "outputs": [
    {
     "data": {
      "text/plain": [
       "'mm = MinMaxScaler()\\ntrains = mm.fit_transform(train)\\ntests = mm.transform(test)'"
      ]
     },
     "execution_count": 416,
     "metadata": {},
     "output_type": "execute_result"
    }
   ],
   "source": [
    "\"\"\"mm = MinMaxScaler()\n",
    "trains = mm.fit_transform(train)\n",
    "tests = mm.transform(test)\"\"\""
   ]
  },
  {
   "cell_type": "code",
   "execution_count": 417,
   "id": "9cf1b3d0",
   "metadata": {},
   "outputs": [
    {
     "data": {
      "text/plain": [
       "((1856, 1), (248, 1))"
      ]
     },
     "execution_count": 417,
     "metadata": {},
     "output_type": "execute_result"
    }
   ],
   "source": [
    "train.shape, test.shape"
   ]
  },
  {
   "cell_type": "code",
   "execution_count": 418,
   "id": "ef956489",
   "metadata": {},
   "outputs": [],
   "source": [
    "# splitting into separate dataframe\n",
    "train = pd.DataFrame(trains, columns=['Close'])\n",
    "test = pd.DataFrame(tests, columns=['Close'])"
   ]
  },
  {
   "cell_type": "markdown",
   "id": "8038dc8e",
   "metadata": {},
   "source": [
    "* <b> Preparing the train data"
   ]
  },
  {
   "cell_type": "code",
   "execution_count": 419,
   "id": "410d5b2f",
   "metadata": {},
   "outputs": [],
   "source": [
    "# Creating a data structure for train data with 60 timesteps and 1 output\n",
    "X_train = []\n",
    "y_train = []\n",
    "\n",
    "for i in range(60,1856):\n",
    "    X_train.append(train.iloc[i-60:i,0])                   \n",
    "    y_train.append(train.iloc[i,0]) "
   ]
  },
  {
   "cell_type": "code",
   "execution_count": 420,
   "id": "acc5515e",
   "metadata": {},
   "outputs": [],
   "source": [
    "X_train, y_train = np.array(X_train), np.array(y_train)"
   ]
  },
  {
   "cell_type": "code",
   "execution_count": 421,
   "id": "d5c006db",
   "metadata": {},
   "outputs": [
    {
     "data": {
      "text/plain": [
       "((1796, 60), (1796, 1))"
      ]
     },
     "execution_count": 421,
     "metadata": {},
     "output_type": "execute_result"
    }
   ],
   "source": [
    "## Reshape\n",
    "X_train = np.reshape(X_train, (X_train.shape[0], X_train.shape[1]))\n",
    "y_train = np.reshape(y_train, (X_train.shape[0], 1))\n",
    "X_train.shape, y_train.shape"
   ]
  },
  {
   "cell_type": "markdown",
   "id": "5a9e52a9",
   "metadata": {},
   "source": [
    "* <b> Preparing the test data"
   ]
  },
  {
   "cell_type": "code",
   "execution_count": 422,
   "id": "889248ab",
   "metadata": {},
   "outputs": [],
   "source": [
    "# Creating a data structure with 60 timesteps and 1 output\n",
    "X_test = []\n",
    "y_test = []\n",
    "\n",
    "for i in range(60,248):\n",
    "    X_test.append(test.iloc[i-60:i,0])\n",
    "    y_test.append(test.iloc[i,0])"
   ]
  },
  {
   "cell_type": "code",
   "execution_count": 423,
   "id": "1bd99110",
   "metadata": {},
   "outputs": [],
   "source": [
    "X_test, y_test = np.array(X_test), np.array(y_test)"
   ]
  },
  {
   "cell_type": "code",
   "execution_count": 424,
   "id": "22101396",
   "metadata": {},
   "outputs": [
    {
     "data": {
      "text/plain": [
       "((188, 60), (188, 1))"
      ]
     },
     "execution_count": 424,
     "metadata": {},
     "output_type": "execute_result"
    }
   ],
   "source": [
    "## Reshape\n",
    "X_test = np.reshape(X_test, (X_test.shape[0], X_test.shape[1]))\n",
    "y_test = np.reshape(y_test, (X_test.shape[0], 1))\n",
    "X_test.shape, y_test.shape"
   ]
  },
  {
   "cell_type": "markdown",
   "id": "8e4f6fe6",
   "metadata": {},
   "source": [
    "### <b> 2.     Build a model using ANN (use atleast two hidden layers). Evaluate the model on Train and Test using two metrices (rmse and r2). Plot the behaviour of loss and performance with epochs."
   ]
  },
  {
   "cell_type": "code",
   "execution_count": 425,
   "id": "694f4ca9",
   "metadata": {},
   "outputs": [
    {
     "name": "stdout",
     "output_type": "stream",
     "text": [
      "Model: \"sequential\"\n",
      "_________________________________________________________________\n",
      " Layer (type)                Output Shape              Param #   \n",
      "=================================================================\n",
      " dense (Dense)               (None, 16)                976       \n",
      "                                                                 \n",
      " dense_1 (Dense)             (None, 32)                544       \n",
      "                                                                 \n",
      " dense_2 (Dense)             (None, 32)                1056      \n",
      "                                                                 \n",
      " dense_3 (Dense)             (None, 6)                 198       \n",
      "                                                                 \n",
      " dense_4 (Dense)             (None, 1)                 7         \n",
      "                                                                 \n",
      "=================================================================\n",
      "Total params: 2,781\n",
      "Trainable params: 2,781\n",
      "Non-trainable params: 0\n",
      "_________________________________________________________________\n"
     ]
    }
   ],
   "source": [
    "# ANN model\n",
    "\n",
    "K.clear_session()\n",
    "\n",
    "model = Sequential()  # initializing stack layer object\n",
    "\n",
    "model.add(Dense(16, activation='relu',input_dim=X_train.shape[1]))  # input layer\n",
    "\n",
    "model.add(Dense(32, activation='relu'))  # hidden layer1\n",
    "\n",
    "model.add(Dense(32, activation='relu'))  # hidden layer2\n",
    "\n",
    "model.add(Dense(6, activation='relu'))    # hidden layer3\n",
    "\n",
    "model.add(Dense(1, activation='relu'))    # output layer\n",
    "\n",
    "model.compile(loss='mean_squared_error', optimizer='adam',metrics=['mse'])\n",
    "\n",
    "model.summary()"
   ]
  },
  {
   "cell_type": "markdown",
   "id": "b280815b",
   "metadata": {},
   "source": [
    "* <b> Train data"
   ]
  },
  {
   "cell_type": "code",
   "execution_count": 426,
   "id": "d5d42df5",
   "metadata": {},
   "outputs": [
    {
     "data": {
      "text/plain": [
       "<keras.callbacks.History at 0x262c4be79a0>"
      ]
     },
     "execution_count": 426,
     "metadata": {},
     "output_type": "execute_result"
    }
   ],
   "source": [
    "# fitting the compiled model to train data\n",
    "model.fit(X_train, y_train, batch_size=100, epochs=50,verbose=0)  # training the model with 50 epochs"
   ]
  },
  {
   "cell_type": "code",
   "execution_count": 427,
   "id": "9f6ad0b2",
   "metadata": {},
   "outputs": [
    {
     "name": "stdout",
     "output_type": "stream",
     "text": [
      "57/57 [==============================] - 0s 1ms/step\n"
     ]
    }
   ],
   "source": [
    "y_train_pred = model.predict(X_train)  # PREDICT TRAIN DATA"
   ]
  },
  {
   "cell_type": "code",
   "execution_count": 428,
   "id": "28423686",
   "metadata": {},
   "outputs": [
    {
     "data": {
      "image/png": "[encoded data removed]",
      "text/plain": [
       "<Figure size 640x480 with 1 Axes>"
      ]
     },
     "metadata": {},
     "output_type": "display_data"
    }
   ],
   "source": [
    "# Performance of the model with train data\n",
    "plt.plot(y_train)\n",
    "plt.plot(y_train_pred)\n",
    "plt.show()"
   ]
  },
  {
   "cell_type": "code",
   "execution_count": 429,
   "id": "960d498e",
   "metadata": {},
   "outputs": [
    {
     "data": {
      "text/plain": [
       "0.020435170777114948"
      ]
     },
     "execution_count": 429,
     "metadata": {},
     "output_type": "execute_result"
    }
   ],
   "source": [
    "# rmse\n",
    "np.sqrt(mean_squared_error(y_train, y_train_pred))"
   ]
  },
  {
   "cell_type": "code",
   "execution_count": 430,
   "id": "79603eff",
   "metadata": {},
   "outputs": [
    {
     "data": {
      "text/plain": [
       "0.9943964373211849"
      ]
     },
     "execution_count": 430,
     "metadata": {},
     "output_type": "execute_result"
    }
   ],
   "source": [
    "# r square\n",
    "from sklearn.metrics import r2_score\n",
    "r2 = r2_score(y_train, y_train_pred)\n",
    "r2\n",
    "# the model is overfitting the train data"
   ]
  },
  {
   "cell_type": "markdown",
   "id": "4c537ae7",
   "metadata": {},
   "source": [
    "* <b> Test data"
   ]
  },
  {
   "cell_type": "code",
   "execution_count": 431,
   "id": "bdcc94ed",
   "metadata": {},
   "outputs": [
    {
     "name": "stdout",
     "output_type": "stream",
     "text": [
      "6/6 [==============================] - 0s 2ms/step\n"
     ]
    }
   ],
   "source": [
    "y_test_pred = model.predict(X_test)  # PREDICT TEST DATA"
   ]
  },
  {
   "cell_type": "code",
   "execution_count": 432,
   "id": "4aef7a77",
   "metadata": {},
   "outputs": [
    {
     "data": {
      "image/png": "[encoded data removed]",
      "text/plain": [
       "<Figure size 640x480 with 1 Axes>"
      ]
     },
     "metadata": {},
     "output_type": "display_data"
    }
   ],
   "source": [
    "# Performance of the model with test data\n",
    "plt.plot(y_test)\n",
    "plt.plot(y_test_pred)\n",
    "plt.show()"
   ]
  },
  {
   "cell_type": "code",
   "execution_count": 433,
   "id": "741ed2d4",
   "metadata": {},
   "outputs": [
    {
     "data": {
      "text/plain": [
       "0.030628271864716266"
      ]
     },
     "execution_count": 433,
     "metadata": {},
     "output_type": "execute_result"
    }
   ],
   "source": [
    "# rmse\n",
    "np.sqrt(mean_squared_error(y_test, y_test_pred))\n",
    "\n",
    "# the rmse has rised(high variance) compared to train data performance which clearly shows overfitting of model to data"
   ]
  },
  {
   "cell_type": "code",
   "execution_count": 434,
   "id": "7ac06daf",
   "metadata": {},
   "outputs": [
    {
     "data": {
      "text/plain": [
       "0.8257591779123149"
      ]
     },
     "execution_count": 434,
     "metadata": {},
     "output_type": "execute_result"
    }
   ],
   "source": [
    "# r square\n",
    "from sklearn.metrics import r2_score\n",
    "r2 = r2_score(y_test, y_test_pred)\n",
    "r2\n",
    "# the r2 has also dropped"
   ]
  },
  {
   "cell_type": "markdown",
   "id": "49c41244",
   "metadata": {},
   "source": [
    "* <b> Behaviour of loss and performance"
   ]
  },
  {
   "cell_type": "code",
   "execution_count": 435,
   "id": "48aa8d5b",
   "metadata": {},
   "outputs": [],
   "source": [
    "hist = model.fit(X_train,y_train,epochs=50,validation_data=(X_test,y_test),verbose=0)"
   ]
  },
  {
   "cell_type": "code",
   "execution_count": 436,
   "id": "524ae89e",
   "metadata": {},
   "outputs": [
    {
     "data": {
      "image/png": "[encoded data removed]",
      "text/plain": [
       "<Figure size 1000x400 with 2 Axes>"
      ]
     },
     "metadata": {},
     "output_type": "display_data"
    }
   ],
   "source": [
    "hist = model.fit(X_train,y_train,epochs=50,validation_data=(X_test,y_test),verbose=0)\n",
    "\n",
    "plt.figure(figsize=(10, 4))\n",
    "\n",
    "plt.subplot(1,2,1)\n",
    "stps = len(hist.history['mse'])\n",
    "plt.plot(range(stps), hist.history['mse'], label='Training mse')\n",
    "plt.plot(range(stps), hist.history['val_mse'], label='Validation mse')\n",
    "plt.legend()\n",
    "\n",
    "plt.subplot(1,2,2)\n",
    "stps = len(hist.history['mse'])\n",
    "plt.plot(range(stps), hist.history['loss'], label='Training Loss')\n",
    "plt.plot(range(stps), hist.history['val_loss'], label='Validation Loss')\n",
    "plt.legend()\n",
    "\n",
    "plt.show()"
   ]
  },
  {
   "cell_type": "markdown",
   "id": "4a2f00ee",
   "metadata": {},
   "source": [
    "*  The train data loss is reducing gradually but the validation loss is randomly fluctuation which shows the model is overfitting to training data."
   ]
  },
  {
   "cell_type": "markdown",
   "id": "52bd1e0c",
   "metadata": {},
   "source": [
    "### <b> 3.     Build a model using RNN (use atleast four hidden layers). Incorporate any method to control overfitting. Evaluate the model on Test and Train using any two appropriate metrices. Explain the number of parameters.  "
   ]
  },
  {
   "cell_type": "code",
   "execution_count": 437,
   "id": "6510f44a",
   "metadata": {},
   "outputs": [],
   "source": [
    "from keras.layers import LSTM"
   ]
  },
  {
   "cell_type": "code",
   "execution_count": 438,
   "id": "7325feb7",
   "metadata": {},
   "outputs": [
    {
     "name": "stdout",
     "output_type": "stream",
     "text": [
      "Model: \"sequential\"\n",
      "_________________________________________________________________\n",
      " Layer (type)                Output Shape              Param #   \n",
      "=================================================================\n",
      " lstm (LSTM)                 (None, 60, 100)           40800     \n",
      "                                                                 \n",
      " dropout (Dropout)           (None, 60, 100)           0         \n",
      "                                                                 \n",
      " lstm_1 (LSTM)               (None, 60, 50)            30200     \n",
      "                                                                 \n",
      " dropout_1 (Dropout)         (None, 60, 50)            0         \n",
      "                                                                 \n",
      " lstm_2 (LSTM)               (None, 60, 50)            20200     \n",
      "                                                                 \n",
      " dropout_2 (Dropout)         (None, 60, 50)            0         \n",
      "                                                                 \n",
      " lstm_3 (LSTM)               (None, 60, 50)            20200     \n",
      "                                                                 \n",
      " dropout_3 (Dropout)         (None, 60, 50)            0         \n",
      "                                                                 \n",
      " lstm_4 (LSTM)               (None, 50)                20200     \n",
      "                                                                 \n",
      " dropout_4 (Dropout)         (None, 50)                0         \n",
      "                                                                 \n",
      " dense (Dense)               (None, 1)                 51        \n",
      "                                                                 \n",
      "=================================================================\n",
      "Total params: 131,651\n",
      "Trainable params: 131,651\n",
      "Non-trainable params: 0\n",
      "_________________________________________________________________\n"
     ]
    }
   ],
   "source": [
    "K.clear_session()\n",
    "\n",
    "model1 = Sequential()\n",
    "\n",
    "# using multiple hidden layers and drop outs to reduce overfitting\n",
    "\n",
    "model1.add(LSTM(100, return_sequences=True, input_shape=(60,1)))\n",
    "model1.add(Dropout(rate=0.2))\n",
    "\n",
    "model1.add(LSTM(50, return_sequences=True))\n",
    "model1.add(Dropout(rate=0.2))\n",
    "\n",
    "model1.add(LSTM(50, return_sequences=True))\n",
    "model1.add(Dropout(rate=0.2))\n",
    "\n",
    "model1.add(LSTM(50, return_sequences=True))\n",
    "model1.add(Dropout(rate=0.2))\n",
    "\n",
    "model1.add(LSTM(50))\n",
    "model1.add(Dropout(rate=0.2))\n",
    "\n",
    "# The output layer\n",
    "model1.add(Dense(units=1, activation='relu'))\n",
    "\n",
    "model1.compile(optimizer='adam',loss='mean_squared_error')\n",
    "model1.summary()"
   ]
  },
  {
   "cell_type": "code",
   "execution_count": 439,
   "id": "d527e0e6",
   "metadata": {},
   "outputs": [
    {
     "name": "stdout",
     "output_type": "stream",
     "text": [
      "Epoch 1/10\n",
      "57/57 [==============================] - 24s 157ms/step - loss: 0.0248\n",
      "Epoch 2/10\n",
      "57/57 [==============================] - 9s 161ms/step - loss: 0.0056\n",
      "Epoch 3/10\n",
      "57/57 [==============================] - 9s 161ms/step - loss: 0.0055\n",
      "Epoch 4/10\n",
      "57/57 [==============================] - 9s 166ms/step - loss: 0.0047\n",
      "Epoch 5/10\n",
      "57/57 [==============================] - 9s 159ms/step - loss: 0.0037\n",
      "Epoch 6/10\n",
      "57/57 [==============================] - 9s 154ms/step - loss: 0.0039\n",
      "Epoch 7/10\n",
      "57/57 [==============================] - 10s 178ms/step - loss: 0.0039\n",
      "Epoch 8/10\n",
      "57/57 [==============================] - 10s 180ms/step - loss: 0.0038\n",
      "Epoch 9/10\n",
      "57/57 [==============================] - 10s 183ms/step - loss: 0.0035\n",
      "Epoch 10/10\n",
      "57/57 [==============================] - 11s 196ms/step - loss: 0.0032\n"
     ]
    },
    {
     "data": {
      "text/plain": [
       "<keras.callbacks.History at 0x262a647db20>"
      ]
     },
     "execution_count": 439,
     "metadata": {},
     "output_type": "execute_result"
    }
   ],
   "source": [
    "# fitting the data to lstm model\n",
    "model1.fit(X_train, y_train, batch_size=32, epochs=10,verbose=1)"
   ]
  },
  {
   "cell_type": "markdown",
   "id": "ebc196f9",
   "metadata": {},
   "source": [
    "* <b> Train data"
   ]
  },
  {
   "cell_type": "code",
   "execution_count": 440,
   "id": "fcb6eb3a",
   "metadata": {},
   "outputs": [
    {
     "name": "stdout",
     "output_type": "stream",
     "text": [
      "57/57 [==============================] - 7s 55ms/step\n"
     ]
    },
    {
     "data": {
      "text/plain": [
       "0.040224722424640126"
      ]
     },
     "execution_count": 440,
     "metadata": {},
     "output_type": "execute_result"
    }
   ],
   "source": [
    "# predict train and calculating mape\n",
    "y_train_pred1 = model1.predict(X_train)\n",
    "np.sqrt(mean_squared_error(y_train, y_train_pred1)) "
   ]
  },
  {
   "cell_type": "code",
   "execution_count": 441,
   "id": "ca6edde8",
   "metadata": {},
   "outputs": [
    {
     "data": {
      "text/plain": [
       "0.9782883013291752"
      ]
     },
     "execution_count": 441,
     "metadata": {},
     "output_type": "execute_result"
    }
   ],
   "source": [
    "# goodness of fit\n",
    "r2 = r2_score(y_train, y_train_pred1)\n",
    "r2"
   ]
  },
  {
   "cell_type": "markdown",
   "id": "3297bdc9",
   "metadata": {},
   "source": [
    "* <b> Test data"
   ]
  },
  {
   "cell_type": "code",
   "execution_count": 442,
   "id": "337b4b94",
   "metadata": {},
   "outputs": [
    {
     "name": "stdout",
     "output_type": "stream",
     "text": [
      "6/6 [==============================] - 0s 53ms/step\n"
     ]
    },
    {
     "data": {
      "text/plain": [
       "0.06065836099433417"
      ]
     },
     "execution_count": 442,
     "metadata": {},
     "output_type": "execute_result"
    }
   ],
   "source": [
    "# predict test and calculating mape\n",
    "y_test_pred1 = model1.predict(X_test)\n",
    "np.sqrt(mean_squared_error(y_test, y_test_pred1))  "
   ]
  },
  {
   "cell_type": "code",
   "execution_count": 443,
   "id": "ad56edab",
   "metadata": {},
   "outputs": [
    {
     "data": {
      "text/plain": [
       "0.3165822291747792"
      ]
     },
     "execution_count": 443,
     "metadata": {},
     "output_type": "execute_result"
    }
   ],
   "source": [
    "# goodness of fit\n",
    "r2 = r2_score(y_test, y_test_pred1)\n",
    "r2"
   ]
  },
  {
   "cell_type": "code",
   "execution_count": 444,
   "id": "36344bfc",
   "metadata": {},
   "outputs": [],
   "source": [
    "# the performance of lstm is not good in our case this might be because of the unscaled data, the ann performed better.\n",
    "# However the overfitting is reduced very well,The perfromance of the lstm can be improved with scaled data\n",
    "# and increasing the number of epochs."
   ]
  },
  {
   "cell_type": "markdown",
   "id": "2274918d",
   "metadata": {},
   "source": [
    "* <b> Explaining parameters"
   ]
  },
  {
   "cell_type": "code",
   "execution_count": null,
   "id": "dc29ea39",
   "metadata": {},
   "outputs": [],
   "source": [
    " Layer (type)                Output Shape              Param #   \n",
    "=================================================================\n",
    " lstm (LSTM)                 (None, 60, 100)           40800     \n",
    "                                                                 \n",
    " dropout (Dropout)           (None, 60, 100)           0         \n",
    "                                                                 \n",
    " lstm_1 (LSTM)               (None, 60, 50)            30200     \n",
    "                                                                 \n",
    " dropout_1 (Dropout)         (None, 60, 50)            0         \n",
    "                                                                 \n",
    " lstm_2 (LSTM)               (None, 60, 50)            20200     \n",
    "                                                                 \n",
    " dropout_2 (Dropout)         (None, 60, 50)            0         \n",
    "                                                                 \n",
    " lstm_3 (LSTM)               (None, 60, 50)            20200     \n",
    "                                                                 \n",
    " dropout_3 (Dropout)         (None, 60, 50)            0         \n",
    "                                                                 \n",
    " lstm_4 (LSTM)               (None, 50)                20200     \n",
    "                                                                 \n",
    " dropout_4 (Dropout)         (None, 50)                0         \n",
    "                                                                 \n",
    " dense (Dense)               (None, 1)                 51        "
   ]
  },
  {
   "cell_type": "markdown",
   "id": "974beba3",
   "metadata": {},
   "source": [
    "#### Explaining (lstm (LSTM)   (None, 60, 100)    40800)\n",
    "\n",
    "* lstm (LSTM): This is the name and type of the layer.\n",
    "* (None, 60, 100): This is the shape of the output tensor from the layer\n",
    "* None represents the batch size\n",
    "* 60 represents the number of time steps in the input sequence, and the third dimension 100 represents the number of units (or cells) in the LSTM layer.\n",
    "* 40800: This is the number of trainable parameters in the layer. It includes the weights and biases for the LSTM cells, as well as the weights and biases for the input and recurrent connections.\n",
    "* the batch size is not fixed can vary at times\n",
    "\n",
    "* input_dim x units + units x units + bias = 1 x 100 + 100 x 100 + 100 = 40800\n",
    "\n"
   ]
  },
  {
   "cell_type": "markdown",
   "id": "5556e01e",
   "metadata": {},
   "source": [
    " ####  Explianing dropout (Dropout)           (None, 60, 100)           0 "
   ]
  },
  {
   "cell_type": "markdown",
   "id": "331c632c",
   "metadata": {},
   "source": [
    "* The dropout set at a probability of 0.2 in our case. We donot have any parameters here(no weights or bias)"
   ]
  },
  {
   "cell_type": "markdown",
   "id": "229a3574",
   "metadata": {},
   "source": [
    "####  Explianing  lstm_1 (LSTM)               (None, 60, 50)            30200 "
   ]
  },
  {
   "cell_type": "markdown",
   "id": "c51564d6",
   "metadata": {},
   "source": [
    "* lstm_1 (LSTM): This is the name and type of the second LSTM layer, which follows the first dropout layer.\n",
    "* (None, 60, 50): This is the shape of the output tensor from the second LSTM layer. The first dimension None represents the batch size, the second dimension 60 represents the number of time steps in the input sequence\n",
    "* the third dimension 50 represents the number of units in the second LSTM layer.\n",
    "* 30200: This is the number of trainable parameters in the second LSTM layer.\n"
   ]
  },
  {
   "cell_type": "markdown",
   "id": "1538cf3b",
   "metadata": {},
   "source": [
    " #### Explaining dropout_1 (Dropout)         (None, 60, 50)            0  "
   ]
  },
  {
   "cell_type": "markdown",
   "id": "c74c212f",
   "metadata": {},
   "source": [
    "* dropout_1 (Dropout): This is the name and type of the second dropout layer, which follows the second LSTM layer\n",
    "* (None, 60, 50): This is the shape of the output tensor from the second dropout layer. It has the same shape as the input tensor to the second dropout layer.\n",
    "* 0: This is the number of trainable parameters in the second dropout layer.    "
   ]
  },
  {
   "cell_type": "markdown",
   "id": "7aed38a6",
   "metadata": {},
   "source": [
    "#### Explaining the output ( dense (Dense)               (None, 1)                 51 )\n",
    "\n",
    "* dense (Dense): This is a fully connected layer with 1 unit. This is the output layer, which means that it produces the final output of the network. In this case, it outputs a single regression value.  50 (weights) + 1 (bias) = 51."
   ]
  },
  {
   "cell_type": "code",
   "execution_count": null,
   "id": "23f6f063",
   "metadata": {},
   "outputs": [],
   "source": []
  }
 ],
 "metadata": {
  "kernelspec": {
   "display_name": "Python 3 (ipykernel)",
   "language": "python",
   "name": "python3"
  },
  "language_info": {
   "codemirror_mode": {
    "name": "ipython",
    "version": 3
   },
   "file_extension": ".py",
   "mimetype": "text/x-python",
   "name": "python",
   "nbconvert_exporter": "python",
   "pygments_lexer": "ipython3",
   "version": "3.9.16"
  }
 },
 "nbformat": 4,
 "nbformat_minor": 5
}
